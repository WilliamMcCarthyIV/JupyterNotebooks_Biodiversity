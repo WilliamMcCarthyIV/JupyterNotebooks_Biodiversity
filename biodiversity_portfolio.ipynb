{
 "cells": [
  {
   "cell_type": "code",
   "execution_count": 17,
   "metadata": {},
   "outputs": [],
   "source": [
    "import numpy as np\n",
    "import pandas as pd\n",
    "import seaborn as sns"
   ]
  },
  {
   "cell_type": "code",
   "execution_count": 18,
   "metadata": {},
   "outputs": [],
   "source": [
    "observations = pd.read_csv(\"observations.csv\")\n",
    "species_info = pd.read_csv(\"species_info.csv\")"
   ]
  },
  {
   "cell_type": "code",
   "execution_count": 19,
   "metadata": {},
   "outputs": [
    {
     "name": "stdout",
     "output_type": "stream",
     "text": [
      "            scientific_name                            park_name  observations\n",
      "0        Vicia benghalensis  Great Smoky Mountains National Park            68\n",
      "1            Neovison vison  Great Smoky Mountains National Park            77\n",
      "2         Prunus subcordata               Yosemite National Park           138\n",
      "3      Abutilon theophrasti                  Bryce National Park            84\n",
      "4  Githopsis specularioides  Great Smoky Mountains National Park            85\n",
      "  category                scientific_name  \\\n",
      "0   Mammal  Clethrionomys gapperi gapperi   \n",
      "1   Mammal                      Bos bison   \n",
      "2   Mammal                     Bos taurus   \n",
      "3   Mammal                     Ovis aries   \n",
      "4   Mammal                 Cervus elaphus   \n",
      "\n",
      "                                        common_names conservation_status  \n",
      "0                           Gapper's Red-Backed Vole                 NaN  \n",
      "1                              American Bison, Bison                 NaN  \n",
      "2  Aurochs, Aurochs, Domestic Cattle (Feral), Dom...                 NaN  \n",
      "3  Domestic Sheep, Mouflon, Red Sheep, Sheep (Feral)                 NaN  \n",
      "4                                      Wapiti Or Elk                 NaN  \n"
     ]
    }
   ],
   "source": [
    "#First, it's a good idea to take a look at the data:\n",
    "print(observations.head())\n",
    "print(species_info.head())"
   ]
  },
  {
   "cell_type": "code",
   "execution_count": 20,
   "metadata": {},
   "outputs": [
    {
     "name": "stdout",
     "output_type": "stream",
     "text": [
      "       observations\n",
      "count  23296.000000\n",
      "mean     142.287904\n",
      "std       69.890532\n",
      "min        9.000000\n",
      "25%       86.000000\n",
      "50%      124.000000\n",
      "75%      195.000000\n",
      "max      321.000000\n"
     ]
    }
   ],
   "source": [
    "print(observations.describe())"
   ]
  },
  {
   "cell_type": "code",
   "execution_count": 21,
   "metadata": {},
   "outputs": [
    {
     "name": "stdout",
     "output_type": "stream",
     "text": [
      "              category    scientific_name        common_names  \\\n",
      "count             5824               5824                5824   \n",
      "unique               7               5541                5504   \n",
      "top     Vascular Plant  Castor canadensis  Brachythecium Moss   \n",
      "freq              4470                  3                   7   \n",
      "\n",
      "       conservation_status  \n",
      "count                  191  \n",
      "unique                   4  \n",
      "top     Species of Concern  \n",
      "freq                   161  \n"
     ]
    }
   ],
   "source": [
    "\n",
    "print(species_info.describe())"
   ]
  },
  {
   "cell_type": "code",
   "execution_count": 22,
   "metadata": {},
   "outputs": [
    {
     "name": "stdout",
     "output_type": "stream",
     "text": [
      "park_name\n",
      "Bryce National Park                    5541\n",
      "Great Smoky Mountains National Park    5541\n",
      "Yellowstone National Park              5541\n",
      "Yosemite National Park                 5541\n",
      "Name: scientific_name, dtype: int64\n"
     ]
    }
   ],
   "source": [
    "#count the number of unique animal species observed in each national park\n",
    "park_biodiversity = observations.groupby('park_name')['scientific_name'].nunique()\n",
    "print(park_biodiversity)\n"
   ]
  },
  {
   "cell_type": "markdown",
   "metadata": {},
   "source": [
    "There are equal observations collected from each of the four parks. All four parks have 5541 observations recorded."
   ]
  },
  {
   "cell_type": "code",
   "execution_count": 23,
   "metadata": {},
   "outputs": [
    {
     "name": "stdout",
     "output_type": "stream",
     "text": [
      "park_name\n",
      "Bryce National Park                            Columba livia\n",
      "Great Smoky Mountains National Park    Streptopelia decaocto\n",
      "Yellowstone National Park                     Holcus lanatus\n",
      "Yosemite National Park                  Hypochaeris radicata\n",
      "dtype: object\n"
     ]
    }
   ],
   "source": [
    "#Determine the most frequently observed animal species in each national park.\n",
    "# Group observations by park_name and scientific_name, and count the number of observations\n",
    "park_species_observations = observations.groupby(['park_name', 'scientific_name'])['observations'].sum().reset_index()\n",
    "\n",
    "# Pivot the data to create a matrix of observations by park and species\n",
    "park_species_matrix = park_species_observations.pivot(index='park_name', columns='scientific_name', values='observations')\n",
    "\n",
    "# Find the most frequently observed species in each park\n",
    "most_observed_species = park_species_matrix.idxmax(axis=1)\n",
    "\n",
    "print(most_observed_species)"
   ]
  },
  {
   "cell_type": "code",
   "execution_count": 24,
   "metadata": {},
   "outputs": [
    {
     "name": "stdout",
     "output_type": "stream",
     "text": [
      "category\n",
      "Amphibian              79\n",
      "Bird                  488\n",
      "Fish                  125\n",
      "Mammal                176\n",
      "Nonvascular Plant     333\n",
      "Reptile                78\n",
      "Vascular Plant       4262\n",
      "Name: scientific_name, dtype: int64\n"
     ]
    }
   ],
   "source": [
    "#Count the number of unique animal species in each category\n",
    "# Group species by category and count the number of unique scientific names\n",
    "species_by_category = species_info.groupby('category')['scientific_name'].nunique()\n",
    "\n",
    "print(species_by_category)"
   ]
  },
  {
   "cell_type": "markdown",
   "metadata": {},
   "source": [
    "Woah, that is a lot of vascular plants! Now would be a good time to merge the datasets before doing more sophisticated analyses. Both datasets can be joined on the scientific_name column"
   ]
  },
  {
   "cell_type": "code",
   "execution_count": 25,
   "metadata": {},
   "outputs": [],
   "source": [
    "# Merge the observations and species_info datasets using the scientific_name column\n",
    "merged_data = pd.merge(observations, species_info, on='scientific_name')"
   ]
  },
  {
   "cell_type": "code",
   "execution_count": 26,
   "metadata": {},
   "outputs": [],
   "source": [
    "# Fill in the null values in the conservation status column with \"Not Specified\"\n",
    "merged_data['conservation_status'] = merged_data['conservation_status'].fillna('Not Specified')"
   ]
  },
  {
   "cell_type": "code",
   "execution_count": 27,
   "metadata": {},
   "outputs": [
    {
     "data": {
      "application/vnd.plotly.v1+json": {
       "config": {
        "plotlyServerURL": "https://plot.ly"
       },
       "data": [
        {
         "alignmentgroup": "True",
         "hovertemplate": "category=%{x}<br>y=%{y}<extra></extra>",
         "legendgroup": "",
         "marker": {
          "color": "#636efa",
          "pattern": {
           "shape": ""
          }
         },
         "name": "",
         "offsetgroup": "",
         "orientation": "v",
         "showlegend": false,
         "textposition": "auto",
         "type": "bar",
         "x": [
          "Amphibian",
          "Bird",
          "Fish",
          "Mammal",
          "Nonvascular Plant",
          "Reptile",
          "Vascular Plant"
         ],
         "xaxis": "x",
         "y": [
          45068,
          332371,
          72901,
          163120,
          190653,
          45822,
          2795312
         ],
         "yaxis": "y"
        }
       ],
       "layout": {
        "barmode": "relative",
        "legend": {
         "tracegroupgap": 0
        },
        "template": {
         "data": {
          "bar": [
           {
            "error_x": {
             "color": "#2a3f5f"
            },
            "error_y": {
             "color": "#2a3f5f"
            },
            "marker": {
             "line": {
              "color": "#E5ECF6",
              "width": 0.5
             },
             "pattern": {
              "fillmode": "overlay",
              "size": 10,
              "solidity": 0.2
             }
            },
            "type": "bar"
           }
          ],
          "barpolar": [
           {
            "marker": {
             "line": {
              "color": "#E5ECF6",
              "width": 0.5
             },
             "pattern": {
              "fillmode": "overlay",
              "size": 10,
              "solidity": 0.2
             }
            },
            "type": "barpolar"
           }
          ],
          "carpet": [
           {
            "aaxis": {
             "endlinecolor": "#2a3f5f",
             "gridcolor": "white",
             "linecolor": "white",
             "minorgridcolor": "white",
             "startlinecolor": "#2a3f5f"
            },
            "baxis": {
             "endlinecolor": "#2a3f5f",
             "gridcolor": "white",
             "linecolor": "white",
             "minorgridcolor": "white",
             "startlinecolor": "#2a3f5f"
            },
            "type": "carpet"
           }
          ],
          "choropleth": [
           {
            "colorbar": {
             "outlinewidth": 0,
             "ticks": ""
            },
            "type": "choropleth"
           }
          ],
          "contour": [
           {
            "colorbar": {
             "outlinewidth": 0,
             "ticks": ""
            },
            "colorscale": [
             [
              0,
              "#0d0887"
             ],
             [
              0.1111111111111111,
              "#46039f"
             ],
             [
              0.2222222222222222,
              "#7201a8"
             ],
             [
              0.3333333333333333,
              "#9c179e"
             ],
             [
              0.4444444444444444,
              "#bd3786"
             ],
             [
              0.5555555555555556,
              "#d8576b"
             ],
             [
              0.6666666666666666,
              "#ed7953"
             ],
             [
              0.7777777777777778,
              "#fb9f3a"
             ],
             [
              0.8888888888888888,
              "#fdca26"
             ],
             [
              1,
              "#f0f921"
             ]
            ],
            "type": "contour"
           }
          ],
          "contourcarpet": [
           {
            "colorbar": {
             "outlinewidth": 0,
             "ticks": ""
            },
            "type": "contourcarpet"
           }
          ],
          "heatmap": [
           {
            "colorbar": {
             "outlinewidth": 0,
             "ticks": ""
            },
            "colorscale": [
             [
              0,
              "#0d0887"
             ],
             [
              0.1111111111111111,
              "#46039f"
             ],
             [
              0.2222222222222222,
              "#7201a8"
             ],
             [
              0.3333333333333333,
              "#9c179e"
             ],
             [
              0.4444444444444444,
              "#bd3786"
             ],
             [
              0.5555555555555556,
              "#d8576b"
             ],
             [
              0.6666666666666666,
              "#ed7953"
             ],
             [
              0.7777777777777778,
              "#fb9f3a"
             ],
             [
              0.8888888888888888,
              "#fdca26"
             ],
             [
              1,
              "#f0f921"
             ]
            ],
            "type": "heatmap"
           }
          ],
          "heatmapgl": [
           {
            "colorbar": {
             "outlinewidth": 0,
             "ticks": ""
            },
            "colorscale": [
             [
              0,
              "#0d0887"
             ],
             [
              0.1111111111111111,
              "#46039f"
             ],
             [
              0.2222222222222222,
              "#7201a8"
             ],
             [
              0.3333333333333333,
              "#9c179e"
             ],
             [
              0.4444444444444444,
              "#bd3786"
             ],
             [
              0.5555555555555556,
              "#d8576b"
             ],
             [
              0.6666666666666666,
              "#ed7953"
             ],
             [
              0.7777777777777778,
              "#fb9f3a"
             ],
             [
              0.8888888888888888,
              "#fdca26"
             ],
             [
              1,
              "#f0f921"
             ]
            ],
            "type": "heatmapgl"
           }
          ],
          "histogram": [
           {
            "marker": {
             "pattern": {
              "fillmode": "overlay",
              "size": 10,
              "solidity": 0.2
             }
            },
            "type": "histogram"
           }
          ],
          "histogram2d": [
           {
            "colorbar": {
             "outlinewidth": 0,
             "ticks": ""
            },
            "colorscale": [
             [
              0,
              "#0d0887"
             ],
             [
              0.1111111111111111,
              "#46039f"
             ],
             [
              0.2222222222222222,
              "#7201a8"
             ],
             [
              0.3333333333333333,
              "#9c179e"
             ],
             [
              0.4444444444444444,
              "#bd3786"
             ],
             [
              0.5555555555555556,
              "#d8576b"
             ],
             [
              0.6666666666666666,
              "#ed7953"
             ],
             [
              0.7777777777777778,
              "#fb9f3a"
             ],
             [
              0.8888888888888888,
              "#fdca26"
             ],
             [
              1,
              "#f0f921"
             ]
            ],
            "type": "histogram2d"
           }
          ],
          "histogram2dcontour": [
           {
            "colorbar": {
             "outlinewidth": 0,
             "ticks": ""
            },
            "colorscale": [
             [
              0,
              "#0d0887"
             ],
             [
              0.1111111111111111,
              "#46039f"
             ],
             [
              0.2222222222222222,
              "#7201a8"
             ],
             [
              0.3333333333333333,
              "#9c179e"
             ],
             [
              0.4444444444444444,
              "#bd3786"
             ],
             [
              0.5555555555555556,
              "#d8576b"
             ],
             [
              0.6666666666666666,
              "#ed7953"
             ],
             [
              0.7777777777777778,
              "#fb9f3a"
             ],
             [
              0.8888888888888888,
              "#fdca26"
             ],
             [
              1,
              "#f0f921"
             ]
            ],
            "type": "histogram2dcontour"
           }
          ],
          "mesh3d": [
           {
            "colorbar": {
             "outlinewidth": 0,
             "ticks": ""
            },
            "type": "mesh3d"
           }
          ],
          "parcoords": [
           {
            "line": {
             "colorbar": {
              "outlinewidth": 0,
              "ticks": ""
             }
            },
            "type": "parcoords"
           }
          ],
          "pie": [
           {
            "automargin": true,
            "type": "pie"
           }
          ],
          "scatter": [
           {
            "fillpattern": {
             "fillmode": "overlay",
             "size": 10,
             "solidity": 0.2
            },
            "type": "scatter"
           }
          ],
          "scatter3d": [
           {
            "line": {
             "colorbar": {
              "outlinewidth": 0,
              "ticks": ""
             }
            },
            "marker": {
             "colorbar": {
              "outlinewidth": 0,
              "ticks": ""
             }
            },
            "type": "scatter3d"
           }
          ],
          "scattercarpet": [
           {
            "marker": {
             "colorbar": {
              "outlinewidth": 0,
              "ticks": ""
             }
            },
            "type": "scattercarpet"
           }
          ],
          "scattergeo": [
           {
            "marker": {
             "colorbar": {
              "outlinewidth": 0,
              "ticks": ""
             }
            },
            "type": "scattergeo"
           }
          ],
          "scattergl": [
           {
            "marker": {
             "colorbar": {
              "outlinewidth": 0,
              "ticks": ""
             }
            },
            "type": "scattergl"
           }
          ],
          "scattermapbox": [
           {
            "marker": {
             "colorbar": {
              "outlinewidth": 0,
              "ticks": ""
             }
            },
            "type": "scattermapbox"
           }
          ],
          "scatterpolar": [
           {
            "marker": {
             "colorbar": {
              "outlinewidth": 0,
              "ticks": ""
             }
            },
            "type": "scatterpolar"
           }
          ],
          "scatterpolargl": [
           {
            "marker": {
             "colorbar": {
              "outlinewidth": 0,
              "ticks": ""
             }
            },
            "type": "scatterpolargl"
           }
          ],
          "scatterternary": [
           {
            "marker": {
             "colorbar": {
              "outlinewidth": 0,
              "ticks": ""
             }
            },
            "type": "scatterternary"
           }
          ],
          "surface": [
           {
            "colorbar": {
             "outlinewidth": 0,
             "ticks": ""
            },
            "colorscale": [
             [
              0,
              "#0d0887"
             ],
             [
              0.1111111111111111,
              "#46039f"
             ],
             [
              0.2222222222222222,
              "#7201a8"
             ],
             [
              0.3333333333333333,
              "#9c179e"
             ],
             [
              0.4444444444444444,
              "#bd3786"
             ],
             [
              0.5555555555555556,
              "#d8576b"
             ],
             [
              0.6666666666666666,
              "#ed7953"
             ],
             [
              0.7777777777777778,
              "#fb9f3a"
             ],
             [
              0.8888888888888888,
              "#fdca26"
             ],
             [
              1,
              "#f0f921"
             ]
            ],
            "type": "surface"
           }
          ],
          "table": [
           {
            "cells": {
             "fill": {
              "color": "#EBF0F8"
             },
             "line": {
              "color": "white"
             }
            },
            "header": {
             "fill": {
              "color": "#C8D4E3"
             },
             "line": {
              "color": "white"
             }
            },
            "type": "table"
           }
          ]
         },
         "layout": {
          "annotationdefaults": {
           "arrowcolor": "#2a3f5f",
           "arrowhead": 0,
           "arrowwidth": 1
          },
          "autotypenumbers": "strict",
          "coloraxis": {
           "colorbar": {
            "outlinewidth": 0,
            "ticks": ""
           }
          },
          "colorscale": {
           "diverging": [
            [
             0,
             "#8e0152"
            ],
            [
             0.1,
             "#c51b7d"
            ],
            [
             0.2,
             "#de77ae"
            ],
            [
             0.3,
             "#f1b6da"
            ],
            [
             0.4,
             "#fde0ef"
            ],
            [
             0.5,
             "#f7f7f7"
            ],
            [
             0.6,
             "#e6f5d0"
            ],
            [
             0.7,
             "#b8e186"
            ],
            [
             0.8,
             "#7fbc41"
            ],
            [
             0.9,
             "#4d9221"
            ],
            [
             1,
             "#276419"
            ]
           ],
           "sequential": [
            [
             0,
             "#0d0887"
            ],
            [
             0.1111111111111111,
             "#46039f"
            ],
            [
             0.2222222222222222,
             "#7201a8"
            ],
            [
             0.3333333333333333,
             "#9c179e"
            ],
            [
             0.4444444444444444,
             "#bd3786"
            ],
            [
             0.5555555555555556,
             "#d8576b"
            ],
            [
             0.6666666666666666,
             "#ed7953"
            ],
            [
             0.7777777777777778,
             "#fb9f3a"
            ],
            [
             0.8888888888888888,
             "#fdca26"
            ],
            [
             1,
             "#f0f921"
            ]
           ],
           "sequentialminus": [
            [
             0,
             "#0d0887"
            ],
            [
             0.1111111111111111,
             "#46039f"
            ],
            [
             0.2222222222222222,
             "#7201a8"
            ],
            [
             0.3333333333333333,
             "#9c179e"
            ],
            [
             0.4444444444444444,
             "#bd3786"
            ],
            [
             0.5555555555555556,
             "#d8576b"
            ],
            [
             0.6666666666666666,
             "#ed7953"
            ],
            [
             0.7777777777777778,
             "#fb9f3a"
            ],
            [
             0.8888888888888888,
             "#fdca26"
            ],
            [
             1,
             "#f0f921"
            ]
           ]
          },
          "colorway": [
           "#636efa",
           "#EF553B",
           "#00cc96",
           "#ab63fa",
           "#FFA15A",
           "#19d3f3",
           "#FF6692",
           "#B6E880",
           "#FF97FF",
           "#FECB52"
          ],
          "font": {
           "color": "#2a3f5f"
          },
          "geo": {
           "bgcolor": "white",
           "lakecolor": "white",
           "landcolor": "#E5ECF6",
           "showlakes": true,
           "showland": true,
           "subunitcolor": "white"
          },
          "hoverlabel": {
           "align": "left"
          },
          "hovermode": "closest",
          "mapbox": {
           "style": "light"
          },
          "paper_bgcolor": "white",
          "plot_bgcolor": "#E5ECF6",
          "polar": {
           "angularaxis": {
            "gridcolor": "white",
            "linecolor": "white",
            "ticks": ""
           },
           "bgcolor": "#E5ECF6",
           "radialaxis": {
            "gridcolor": "white",
            "linecolor": "white",
            "ticks": ""
           }
          },
          "scene": {
           "xaxis": {
            "backgroundcolor": "#E5ECF6",
            "gridcolor": "white",
            "gridwidth": 2,
            "linecolor": "white",
            "showbackground": true,
            "ticks": "",
            "zerolinecolor": "white"
           },
           "yaxis": {
            "backgroundcolor": "#E5ECF6",
            "gridcolor": "white",
            "gridwidth": 2,
            "linecolor": "white",
            "showbackground": true,
            "ticks": "",
            "zerolinecolor": "white"
           },
           "zaxis": {
            "backgroundcolor": "#E5ECF6",
            "gridcolor": "white",
            "gridwidth": 2,
            "linecolor": "white",
            "showbackground": true,
            "ticks": "",
            "zerolinecolor": "white"
           }
          },
          "shapedefaults": {
           "line": {
            "color": "#2a3f5f"
           }
          },
          "ternary": {
           "aaxis": {
            "gridcolor": "white",
            "linecolor": "white",
            "ticks": ""
           },
           "baxis": {
            "gridcolor": "white",
            "linecolor": "white",
            "ticks": ""
           },
           "bgcolor": "#E5ECF6",
           "caxis": {
            "gridcolor": "white",
            "linecolor": "white",
            "ticks": ""
           }
          },
          "title": {
           "x": 0.05
          },
          "xaxis": {
           "automargin": true,
           "gridcolor": "white",
           "linecolor": "white",
           "ticks": "",
           "title": {
            "standoff": 15
           },
           "zerolinecolor": "white",
           "zerolinewidth": 2
          },
          "yaxis": {
           "automargin": true,
           "gridcolor": "white",
           "linecolor": "white",
           "ticks": "",
           "title": {
            "standoff": 15
           },
           "zerolinecolor": "white",
           "zerolinewidth": 2
          }
         }
        },
        "title": {
         "text": "Number of Observations for Each Animal Category"
        },
        "xaxis": {
         "anchor": "y",
         "domain": [
          0,
          1
         ],
         "title": {
          "text": "category"
         }
        },
        "yaxis": {
         "anchor": "x",
         "domain": [
          0,
          1
         ],
         "title": {
          "text": "y"
         }
        }
       }
      }
     },
     "metadata": {},
     "output_type": "display_data"
    }
   ],
   "source": [
    "import plotly.express as px\n",
    "\n",
    "# Group the merged dataset by the category of animal and count the number of observations\n",
    "category_observations = merged_data.groupby('category')['observations'].sum()\n",
    "\n",
    "# Create a bar chart of the number of observations for each animal category\n",
    "fig = px.bar(category_observations, x=category_observations.index, y=category_observations.values, title='Number of Observations for Each Animal Category')\n",
    "fig.show()"
   ]
  },
  {
   "cell_type": "markdown",
   "metadata": {},
   "source": [
    "Let's investigate our dataset more and begin cleaning it if necessary. For this project, I want to focus more on endangered and threatened species. I don't want to do any sophisticated analyses with the species that are most common. Let's filter our data so that we have our group of endangered animals. "
   ]
  },
  {
   "cell_type": "code",
   "execution_count": 29,
   "metadata": {},
   "outputs": [
    {
     "data": {
      "image/png": "[encoded data removed]",
      "text/plain": [
       "<Figure size 640x480 with 1 Axes>"
      ]
     },
     "metadata": {},
     "output_type": "display_data"
    }
   ],
   "source": [
    "import pandas as pd\n",
    "import matplotlib.pyplot as plt\n",
    "\n",
    "# Set the conservation statuses to include as endangered\n",
    "endangered_statuses = ['Endangered', 'Threatened']\n",
    "\n",
    "# Filter the merged_data dataframe to only include endangered species\n",
    "endangered_data = merged_data[merged_data['conservation_status'].isin(endangered_statuses)]\n",
    "\n",
    "# Group the endangered_data dataset by the conservation status and category, and count the number of observations\n",
    "category_counts = endangered_data.groupby(['conservation_status', 'category'])['observations'].sum()\n",
    "\n",
    "# Reshape the data into a format that can be plotted\n",
    "category_counts_long = category_counts.unstack().fillna(0)\n",
    "\n",
    "# Set the order of the categories for plotting\n",
    "categories = ['Mammal', 'Fish', 'Vascular Plant', 'Bird', 'Amphibian']\n",
    "category_counts_long = category_counts_long[categories]\n",
    "\n",
    "# Create a bar chart of the conservation counts for each category\n",
    "category_counts.plot(kind='pie', autopct='%1.1f%%')\n",
    "plt.xlabel('Endangered Species')\n",
    "plt.gca().axes.yaxis.set_visible(False) # Hide the y-axis label\n",
    "plt.title('Observations of Endangered Species Across Four US National Parks')\n",
    "plt.xticks(rotation=45, ha='right')\n",
    "plt.show()"
   ]
  },
  {
   "cell_type": "markdown",
   "metadata": {},
   "source": [
    "Nice! Now I want to generate some summary statistics for each of the endangered and threatened species commonly observed in the US national parks. Which endangered species are observed the least?"
   ]
  },
  {
   "cell_type": "code",
   "execution_count": 30,
   "metadata": {},
   "outputs": [
    {
     "name": "stdout",
     "output_type": "stream",
     "text": [
      "  conservation_status        category  observations\n",
      "0          Endangered       Amphibian           144\n",
      "4          Endangered  Vascular Plant           162\n",
      "2          Endangered            Fish           455\n",
      "8          Threatened  Vascular Plant           552\n",
      "5          Threatened       Amphibian           564\n",
      "1          Endangered            Bird           574\n",
      "7          Threatened          Mammal           578\n",
      "6          Threatened            Fish          1645\n",
      "3          Endangered          Mammal          2178\n",
      "                                                                                                                    observations  \\\n",
      "                                                                                                                           count   \n",
      "conservation_status category       scientific_name               common_names                                                      \n",
      "Endangered          Amphibian      Rana sierrae                  Sierra Nevada Yellow-Legged Frog                            4.0   \n",
      "                    Bird           Grus americana                Whooping Crane                                              4.0   \n",
      "                                   Gymnogyps californianus       California Condor                                           4.0   \n",
      "                                   Picoides borealis             Red-Cockaded Woodpecker                                     4.0   \n",
      "                                   Vermivora bachmanii           Bachman's Warbler, Bachman's Wood Warbler                   4.0   \n",
      "                    Fish           Chasmistes liorus             June Sucker                                                 4.0   \n",
      "                                   Etheostoma percnurum          Duskytail Darter                                            4.0   \n",
      "                                   Noturus baileyi               Smoky Madtom                                                4.0   \n",
      "                    Mammal         Canis lupus                   Gray Wolf                                                  12.0   \n",
      "                                                                 Gray Wolf, Wolf                                            12.0   \n",
      "                                   Canis rufus                   Red Wolf                                                    4.0   \n",
      "                                   Glaucomys sabrinus coloratus  Carolina Northern Flying Squirrel, Northern Fly...          4.0   \n",
      "                                   Myotis grisescens             Gray Myotis                                                 4.0   \n",
      "                                   Myotis sodalis                Indiana Bat, Indiana Or Social Myotis                       4.0   \n",
      "                                   Ovis canadensis sierrae       Sierra Nevada Bighorn Sheep                                 4.0   \n",
      "                    Vascular Plant Geum radiatum                 Mountain Avens, Spreading Avens                             4.0   \n",
      "Threatened          Amphibian      Anaxyrus canorus              Yosemite Toad                                               4.0   \n",
      "                                   Rana draytonii                California Red-Legged Frog                                  4.0   \n",
      "                    Fish           Erimonax monachus             Spotfin Chub                                                4.0   \n",
      "                                   Noturus flavipinnis           Yellowfin Madtom                                            4.0   \n",
      "                                   Oncorhynchus clarkii henshawi Lahontan Cutthroat Trout                                    4.0   \n",
      "                                   Oncorhynchus mykiss           Rainbow Trout                                               8.0   \n",
      "                    Mammal         Myotis septentrionalis        Northern Long-Eared Bat, Northern Myotis                    4.0   \n",
      "                                   Ursus arctos horribilis       Grizzly Bear                                                4.0   \n",
      "                    Vascular Plant Isotria medeoloides           Small Whorled Pogonia                                       4.0   \n",
      "                                   Spiraea virginiana            Virginia Spiraea                                            4.0   \n",
      "\n",
      "                                                                                                                                 \\\n",
      "                                                                                                                           mean   \n",
      "conservation_status category       scientific_name               common_names                                                     \n",
      "Endangered          Amphibian      Rana sierrae                  Sierra Nevada Yellow-Legged Frog                     36.000000   \n",
      "                    Bird           Grus americana                Whooping Crane                                       32.750000   \n",
      "                                   Gymnogyps californianus       California Condor                                    39.000000   \n",
      "                                   Picoides borealis             Red-Cockaded Woodpecker                              36.500000   \n",
      "                                   Vermivora bachmanii           Bachman's Warbler, Bachman's Wood Warbler            35.250000   \n",
      "                    Fish           Chasmistes liorus             June Sucker                                          36.500000   \n",
      "                                   Etheostoma percnurum          Duskytail Darter                                     41.500000   \n",
      "                                   Noturus baileyi               Smoky Madtom                                         35.750000   \n",
      "                    Mammal         Canis lupus                   Gray Wolf                                            59.583333   \n",
      "                                                                 Gray Wolf, Wolf                                      59.583333   \n",
      "                                   Canis rufus                   Red Wolf                                             34.250000   \n",
      "                                   Glaucomys sabrinus coloratus  Carolina Northern Flying Squirrel, Northern Fly...   38.250000   \n",
      "                                   Myotis grisescens             Gray Myotis                                          40.000000   \n",
      "                                   Myotis sodalis                Indiana Bat, Indiana Or Social Myotis                36.250000   \n",
      "                                   Ovis canadensis sierrae       Sierra Nevada Bighorn Sheep                          38.250000   \n",
      "                    Vascular Plant Geum radiatum                 Mountain Avens, Spreading Avens                      40.500000   \n",
      "Threatened          Amphibian      Anaxyrus canorus              Yosemite Toad                                        68.500000   \n",
      "                                   Rana draytonii                California Red-Legged Frog                           72.500000   \n",
      "                    Fish           Erimonax monachus             Spotfin Chub                                         60.500000   \n",
      "                                   Noturus flavipinnis           Yellowfin Madtom                                     72.250000   \n",
      "                                   Oncorhynchus clarkii henshawi Lahontan Cutthroat Trout                             75.250000   \n",
      "                                   Oncorhynchus mykiss           Rainbow Trout                                       101.625000   \n",
      "                    Mammal         Myotis septentrionalis        Northern Long-Eared Bat, Northern Myotis             75.500000   \n",
      "                                   Ursus arctos horribilis       Grizzly Bear                                         69.000000   \n",
      "                    Vascular Plant Isotria medeoloides           Small Whorled Pogonia                                68.500000   \n",
      "                                   Spiraea virginiana            Virginia Spiraea                                     69.500000   \n",
      "\n",
      "                                                                                                                                \\\n",
      "                                                                                                                           std   \n",
      "conservation_status category       scientific_name               common_names                                                    \n",
      "Endangered          Amphibian      Rana sierrae                  Sierra Nevada Yellow-Legged Frog                    20.510160   \n",
      "                    Bird           Grus americana                Whooping Crane                                      18.909874   \n",
      "                                   Gymnogyps californianus       California Condor                                   21.181753   \n",
      "                                   Picoides borealis             Red-Cockaded Woodpecker                             21.733231   \n",
      "                                   Vermivora bachmanii           Bachman's Warbler, Bachman's Wood Warbler           19.517087   \n",
      "                    Fish           Chasmistes liorus             June Sucker                                         19.824228   \n",
      "                                   Etheostoma percnurum          Duskytail Darter                                    19.974984   \n",
      "                                   Noturus baileyi               Smoky Madtom                                        21.219095   \n",
      "                    Mammal         Canis lupus                   Gray Wolf                                           53.862550   \n",
      "                                                                 Gray Wolf, Wolf                                     53.862550   \n",
      "                                   Canis rufus                   Red Wolf                                            19.431504   \n",
      "                                   Glaucomys sabrinus coloratus  Carolina Northern Flying Squirrel, Northern Fly...  20.122541   \n",
      "                                   Myotis grisescens             Gray Myotis                                         19.578900   \n",
      "                                   Myotis sodalis                Indiana Bat, Indiana Or Social Myotis               23.012678   \n",
      "                                   Ovis canadensis sierrae       Sierra Nevada Bighorn Sheep                         20.548723   \n",
      "                    Vascular Plant Geum radiatum                 Mountain Avens, Spreading Avens                     17.990738   \n",
      "Threatened          Amphibian      Anaxyrus canorus              Yosemite Toad                                       38.923001   \n",
      "                                   Rana draytonii                California Red-Legged Frog                          47.731890   \n",
      "                    Fish           Erimonax monachus             Spotfin Chub                                        38.475100   \n",
      "                                   Noturus flavipinnis           Yellowfin Madtom                                    38.733061   \n",
      "                                   Oncorhynchus clarkii henshawi Lahontan Cutthroat Trout                            28.570089   \n",
      "                                   Oncorhynchus mykiss           Rainbow Trout                                       68.349809   \n",
      "                    Mammal         Myotis septentrionalis        Northern Long-Eared Bat, Northern Myotis            47.738873   \n",
      "                                   Ursus arctos horribilis       Grizzly Bear                                        33.931303   \n",
      "                    Vascular Plant Isotria medeoloides           Small Whorled Pogonia                               36.565011   \n",
      "                                   Spiraea virginiana            Virginia Spiraea                                    30.512293   \n",
      "\n",
      "                                                                                                                           \\\n",
      "                                                                                                                      min   \n",
      "conservation_status category       scientific_name               common_names                                               \n",
      "Endangered          Amphibian      Rana sierrae                  Sierra Nevada Yellow-Legged Frog                    11.0   \n",
      "                    Bird           Grus americana                Whooping Crane                                      13.0   \n",
      "                                   Gymnogyps californianus       California Condor                                   15.0   \n",
      "                                   Picoides borealis             Red-Cockaded Woodpecker                             15.0   \n",
      "                                   Vermivora bachmanii           Bachman's Warbler, Bachman's Wood Warbler           18.0   \n",
      "                    Fish           Chasmistes liorus             June Sucker                                         23.0   \n",
      "                                   Etheostoma percnurum          Duskytail Darter                                    25.0   \n",
      "                                   Noturus baileyi               Smoky Madtom                                        22.0   \n",
      "                    Mammal         Canis lupus                   Gray Wolf                                           14.0   \n",
      "                                                                 Gray Wolf, Wolf                                     14.0   \n",
      "                                   Canis rufus                   Red Wolf                                            13.0   \n",
      "                                   Glaucomys sabrinus coloratus  Carolina Northern Flying Squirrel, Northern Fly...  21.0   \n",
      "                                   Myotis grisescens             Gray Myotis                                         26.0   \n",
      "                                   Myotis sodalis                Indiana Bat, Indiana Or Social Myotis               14.0   \n",
      "                                   Ovis canadensis sierrae       Sierra Nevada Bighorn Sheep                         22.0   \n",
      "                    Vascular Plant Geum radiatum                 Mountain Avens, Spreading Avens                     25.0   \n",
      "Threatened          Amphibian      Anaxyrus canorus              Yosemite Toad                                       30.0   \n",
      "                                   Rana draytonii                California Red-Legged Frog                          37.0   \n",
      "                    Fish           Erimonax monachus             Spotfin Chub                                        18.0   \n",
      "                                   Noturus flavipinnis           Yellowfin Madtom                                    36.0   \n",
      "                                   Oncorhynchus clarkii henshawi Lahontan Cutthroat Trout                            48.0   \n",
      "                                   Oncorhynchus mykiss           Rainbow Trout                                       39.0   \n",
      "                    Mammal         Myotis septentrionalis        Northern Long-Eared Bat, Northern Myotis            34.0   \n",
      "                                   Ursus arctos horribilis       Grizzly Bear                                        38.0   \n",
      "                    Vascular Plant Isotria medeoloides           Small Whorled Pogonia                               36.0   \n",
      "                                   Spiraea virginiana            Virginia Spiraea                                    45.0   \n",
      "\n",
      "                                                                                                                            \\\n",
      "                                                                                                                       25%   \n",
      "conservation_status category       scientific_name               common_names                                                \n",
      "Endangered          Amphibian      Rana sierrae                  Sierra Nevada Yellow-Legged Frog                    26.00   \n",
      "                    Bird           Grus americana                Whooping Crane                                      21.25   \n",
      "                                   Gymnogyps californianus       California Condor                                   26.25   \n",
      "                                   Picoides borealis             Red-Cockaded Woodpecker                             21.75   \n",
      "                                   Vermivora bachmanii           Bachman's Warbler, Bachman's Wood Warbler           19.50   \n",
      "                    Fish           Chasmistes liorus             June Sucker                                         23.00   \n",
      "                                   Etheostoma percnurum          Duskytail Darter                                    29.50   \n",
      "                                   Noturus baileyi               Smoky Madtom                                        22.75   \n",
      "                    Mammal         Canis lupus                   Gray Wolf                                           28.50   \n",
      "                                                                 Gray Wolf, Wolf                                     28.50   \n",
      "                                   Canis rufus                   Red Wolf                                            25.75   \n",
      "                                   Glaucomys sabrinus coloratus  Carolina Northern Flying Squirrel, Northern Fly...  27.00   \n",
      "                                   Myotis grisescens             Gray Myotis                                         26.75   \n",
      "                                   Myotis sodalis                Indiana Bat, Indiana Or Social Myotis               23.75   \n",
      "                                   Ovis canadensis sierrae       Sierra Nevada Bighorn Sheep                         24.25   \n",
      "                    Vascular Plant Geum radiatum                 Mountain Avens, Spreading Avens                     26.50   \n",
      "Threatened          Amphibian      Anaxyrus canorus              Yosemite Toad                                       39.75   \n",
      "                                   Rana draytonii                California Red-Legged Frog                          41.50   \n",
      "                    Fish           Erimonax monachus             Spotfin Chub                                        39.00   \n",
      "                                   Noturus flavipinnis           Yellowfin Madtom                                    50.25   \n",
      "                                   Oncorhynchus clarkii henshawi Lahontan Cutthroat Trout                            54.75   \n",
      "                                   Oncorhynchus mykiss           Rainbow Trout                                       59.00   \n",
      "                    Mammal         Myotis septentrionalis        Northern Long-Eared Bat, Northern Myotis            47.50   \n",
      "                                   Ursus arctos horribilis       Grizzly Bear                                        47.00   \n",
      "                    Vascular Plant Isotria medeoloides           Small Whorled Pogonia                               40.50   \n",
      "                                   Spiraea virginiana            Virginia Spiraea                                    54.00   \n",
      "\n",
      "                                                                                                                           \\\n",
      "                                                                                                                      50%   \n",
      "conservation_status category       scientific_name               common_names                                               \n",
      "Endangered          Amphibian      Rana sierrae                  Sierra Nevada Yellow-Legged Frog                    36.5   \n",
      "                    Bird           Grus americana                Whooping Crane                                      30.5   \n",
      "                                   Gymnogyps californianus       California Condor                                   38.5   \n",
      "                                   Picoides borealis             Red-Cockaded Woodpecker                             33.5   \n",
      "                                   Vermivora bachmanii           Bachman's Warbler, Bachman's Wood Warbler           32.5   \n",
      "                    Fish           Chasmistes liorus             June Sucker                                         29.0   \n",
      "                                   Etheostoma percnurum          Duskytail Darter                                    35.5   \n",
      "                                   Noturus baileyi               Smoky Madtom                                        27.0   \n",
      "                    Mammal         Canis lupus                   Gray Wolf                                           39.5   \n",
      "                                                                 Gray Wolf, Wolf                                     39.5   \n",
      "                                   Canis rufus                   Red Wolf                                            32.0   \n",
      "                                   Glaucomys sabrinus coloratus  Carolina Northern Flying Squirrel, Northern Fly...  32.5   \n",
      "                                   Myotis grisescens             Gray Myotis                                         33.0   \n",
      "                                   Myotis sodalis                Indiana Bat, Indiana Or Social Myotis               31.5   \n",
      "                                   Ovis canadensis sierrae       Sierra Nevada Bighorn Sheep                         32.0   \n",
      "                    Vascular Plant Geum radiatum                 Mountain Avens, Spreading Avens                     37.0   \n",
      "Threatened          Amphibian      Anaxyrus canorus              Yosemite Toad                                       65.0   \n",
      "                                   Rana draytonii                California Red-Legged Frog                          56.0   \n",
      "                    Fish           Erimonax monachus             Spotfin Chub                                        57.5   \n",
      "                                   Noturus flavipinnis           Yellowfin Madtom                                    63.5   \n",
      "                                   Oncorhynchus clarkii henshawi Lahontan Cutthroat Trout                            71.0   \n",
      "                                   Oncorhynchus mykiss           Rainbow Trout                                       83.0   \n",
      "                    Mammal         Myotis septentrionalis        Northern Long-Eared Bat, Northern Myotis            62.5   \n",
      "                                   Ursus arctos horribilis       Grizzly Bear                                        61.5   \n",
      "                    Vascular Plant Isotria medeoloides           Small Whorled Pogonia                               62.0   \n",
      "                                   Spiraea virginiana            Virginia Spiraea                                    59.5   \n",
      "\n",
      "                                                                                                                             \\\n",
      "                                                                                                                        75%   \n",
      "conservation_status category       scientific_name               common_names                                                 \n",
      "Endangered          Amphibian      Rana sierrae                  Sierra Nevada Yellow-Legged Frog                     46.50   \n",
      "                    Bird           Grus americana                Whooping Crane                                       42.00   \n",
      "                                   Gymnogyps californianus       California Condor                                    51.25   \n",
      "                                   Picoides borealis             Red-Cockaded Woodpecker                              48.25   \n",
      "                                   Vermivora bachmanii           Bachman's Warbler, Bachman's Wood Warbler            48.25   \n",
      "                    Fish           Chasmistes liorus             June Sucker                                          42.50   \n",
      "                                   Etheostoma percnurum          Duskytail Darter                                     47.50   \n",
      "                                   Noturus baileyi               Smoky Madtom                                         40.00   \n",
      "                    Mammal         Canis lupus                   Gray Wolf                                            68.75   \n",
      "                                                                 Gray Wolf, Wolf                                      68.75   \n",
      "                                   Canis rufus                   Red Wolf                                             40.50   \n",
      "                                   Glaucomys sabrinus coloratus  Carolina Northern Flying Squirrel, Northern Fly...   43.75   \n",
      "                                   Myotis grisescens             Gray Myotis                                          46.25   \n",
      "                                   Myotis sodalis                Indiana Bat, Indiana Or Social Myotis                44.00   \n",
      "                                   Ovis canadensis sierrae       Sierra Nevada Bighorn Sheep                          46.00   \n",
      "                    Vascular Plant Geum radiatum                 Mountain Avens, Spreading Avens                      51.00   \n",
      "Threatened          Amphibian      Anaxyrus canorus              Yosemite Toad                                        93.75   \n",
      "                                   Rana draytonii                California Red-Legged Frog                           87.00   \n",
      "                    Fish           Erimonax monachus             Spotfin Chub                                         79.00   \n",
      "                                   Noturus flavipinnis           Yellowfin Madtom                                     85.50   \n",
      "                                   Oncorhynchus clarkii henshawi Lahontan Cutthroat Trout                             91.50   \n",
      "                                   Oncorhynchus mykiss           Rainbow Trout                                       118.25   \n",
      "                    Mammal         Myotis septentrionalis        Northern Long-Eared Bat, Northern Myotis             90.50   \n",
      "                                   Ursus arctos horribilis       Grizzly Bear                                         83.50   \n",
      "                    Vascular Plant Isotria medeoloides           Small Whorled Pogonia                                90.00   \n",
      "                                   Spiraea virginiana            Virginia Spiraea                                     75.00   \n",
      "\n",
      "                                                                                                                            \n",
      "                                                                                                                       max  \n",
      "conservation_status category       scientific_name               common_names                                               \n",
      "Endangered          Amphibian      Rana sierrae                  Sierra Nevada Yellow-Legged Frog                     60.0  \n",
      "                    Bird           Grus americana                Whooping Crane                                       57.0  \n",
      "                                   Gymnogyps californianus       California Condor                                    64.0  \n",
      "                                   Picoides borealis             Red-Cockaded Woodpecker                              64.0  \n",
      "                                   Vermivora bachmanii           Bachman's Warbler, Bachman's Wood Warbler            58.0  \n",
      "                    Fish           Chasmistes liorus             June Sucker                                          65.0  \n",
      "                                   Etheostoma percnurum          Duskytail Darter                                     70.0  \n",
      "                                   Noturus baileyi               Smoky Madtom                                         67.0  \n",
      "                    Mammal         Canis lupus                   Gray Wolf                                           203.0  \n",
      "                                                                 Gray Wolf, Wolf                                     203.0  \n",
      "                                   Canis rufus                   Red Wolf                                             60.0  \n",
      "                                   Glaucomys sabrinus coloratus  Carolina Northern Flying Squirrel, Northern Fly...   67.0  \n",
      "                                   Myotis grisescens             Gray Myotis                                          68.0  \n",
      "                                   Myotis sodalis                Indiana Bat, Indiana Or Social Myotis                68.0  \n",
      "                                   Ovis canadensis sierrae       Sierra Nevada Bighorn Sheep                          67.0  \n",
      "                    Vascular Plant Geum radiatum                 Mountain Avens, Spreading Avens                      63.0  \n",
      "Threatened          Amphibian      Anaxyrus canorus              Yosemite Toad                                       114.0  \n",
      "                                   Rana draytonii                California Red-Legged Frog                          141.0  \n",
      "                    Fish           Erimonax monachus             Spotfin Chub                                        109.0  \n",
      "                                   Noturus flavipinnis           Yellowfin Madtom                                    126.0  \n",
      "                                   Oncorhynchus clarkii henshawi Lahontan Cutthroat Trout                            111.0  \n",
      "                                   Oncorhynchus mykiss           Rainbow Trout                                       253.0  \n",
      "                    Mammal         Myotis septentrionalis        Northern Long-Eared Bat, Northern Myotis            143.0  \n",
      "                                   Ursus arctos horribilis       Grizzly Bear                                        115.0  \n",
      "                    Vascular Plant Isotria medeoloides           Small Whorled Pogonia                               114.0  \n",
      "                                   Spiraea virginiana            Virginia Spiraea                                    114.0  \n"
     ]
    }
   ],
   "source": [
    "import pandas as pd\n",
    "\n",
    "# Set the conservation statuses to include as endangered or threatened\n",
    "endangered_statuses = ['Endangered']\n",
    "threatened_statuses = ['Threatened']\n",
    "\n",
    "# Filter the merged_data dataframe to only include endangered or threatened species\n",
    "endangered_or_threatened_data = merged_data[(merged_data['conservation_status'].isin(endangered_statuses)) | (merged_data['conservation_status'].isin(threatened_statuses))]\n",
    "\n",
    "# Group the endangered_or_threatened_data dataset by the conservation_status and category, and count the number of observations\n",
    "status_category_counts = endangered_or_threatened_data.groupby(['conservation_status', 'category'])['observations'].sum().reset_index()\n",
    "\n",
    "# Sort the dataframe by the number of observations in ascending order\n",
    "status_category_counts = status_category_counts.sort_values(by='observations')\n",
    "\n",
    "# Display the least observed species in each category\n",
    "print(status_category_counts)\n",
    "\n",
    "# Display summary statistics for the least observed endangered species\n",
    "summary_stats = endangered_data.groupby(['conservation_status', 'category', 'scientific_name', 'common_names']).describe()\n",
    "print(summary_stats)"
   ]
  },
  {
   "cell_type": "markdown",
   "metadata": {},
   "source": [
    "Now we have the list of the top ten least observed endangered species in four US national parks. Although there are many more observations of vascular plants, as well as species of concern and threatened species, these endangered species here represent a critical subset of the population which ought to be protected.\n",
    "\n",
    "In this project, I imported csv files into jupyter notebooks before cleaning the datasets, joining them on a column, and running descriptive statistics. I used the help of BlackBox AI to generate plots and to assist with my syntax. I thought my findings were interesting given the huge amount of observations of plants. \n",
    "\n",
    "The next step for this dataset is to start hypothesis testing. Now that we have a good idea of what the data looks like, we can start asking more specific questions and testing for statistical significance. \n",
    "\n",
    "I got this data from MyCodeAcademy and I enjoyed running some descriptive statistics on these species -- I hope you will too.  Feel free to keep playing around with this dataset! "
   ]
  },
  {
   "cell_type": "markdown",
   "metadata": {},
   "source": [
    "Now, let's start some hypothesis testing! For the endangered species we have identified, I am wondering if there are a significantly greater proportion of mammals that are endangered compared to other animal species such as birds, fish, and amphibians. To do this, we can perform a series of Chi-Square tests of Independence. Chi Square tests are preferable because we want to know whether between two nominal variables (species names such as 'mammals' and 'birds') there is a significant difference in proportion that can be attributed to chance. "
   ]
  },
  {
   "cell_type": "markdown",
   "metadata": {},
   "source": [
    "Chi Square Test of Independence: Difference in the relationship of endangered mammal vs fish species"
   ]
  },
  {
   "cell_type": "code",
   "execution_count": 33,
   "metadata": {},
   "outputs": [
    {
     "name": "stdout",
     "output_type": "stream",
     "text": [
      "Chi-Square Test for Mammals vs. Birds:\n",
      "Chi-Square Statistic: 1.5045272435897439\n",
      "P-Value: 0.2199760834330392\n",
      "\n",
      "Chi-Square Test for Mammals vs. Fish:\n",
      "Chi-Square Statistic: 17.725060096153847\n",
      "P-Value: 2.552418356798451e-05\n",
      "\n",
      "Chi-Square Test for Mammals vs. Amphibians:\n",
      "Chi-Square Statistic: 11.076923076923077\n",
      "P-Value: 0.0008740872112984756\n"
     ]
    }
   ],
   "source": [
    "from scipy.stats import chi2_contingency\n",
    "\n",
    "# Assuming endangered_or_threatened_data is already defined\n",
    "\n",
    "# Group the endangered_or_threatened_data dataset by the conservation_status and category, and count the number of observations\n",
    "status_category_counts = endangered_or_threatened_data.groupby(['conservation_status', 'category']).size().unstack(fill_value=0)\n",
    "\n",
    "# Perform Chi-Square tests for mammals vs. birds, mammals vs. fish, and mammals vs. amphibians\n",
    "mammal_vs_bird = chi2_contingency(status_category_counts[['Mammal', 'Bird']].values)\n",
    "mammal_vs_fish = chi2_contingency(status_category_counts[['Mammal', 'Fish']].values)\n",
    "mammal_vs_amphibian = chi2_contingency(status_category_counts[['Mammal', 'Amphibian']].values)\n",
    "\n",
    "# Print the results\n",
    "print('Chi-Square Test for Mammals vs. Birds:')\n",
    "print('Chi-Square Statistic:', mammal_vs_bird[0])\n",
    "print('P-Value:', mammal_vs_bird[1])\n",
    "print('')\n",
    "print('Chi-Square Test for Mammals vs. Fish:')\n",
    "print('Chi-Square Statistic:', mammal_vs_fish[0])\n",
    "print('P-Value:', mammal_vs_fish[1])\n",
    "print('')\n",
    "print('Chi-Square Test for Mammals vs. Amphibians:')\n",
    "print('Chi-Square Statistic:', mammal_vs_amphibian[0])\n",
    "print('P-Value:', mammal_vs_amphibian[1])"
   ]
  },
  {
   "cell_type": "markdown",
   "metadata": {},
   "source": [
    "Well this looks interesting -- too bad it is wrong! Good to learn how to do it ourselves and not rely on BlackBox AI for all coding. If we take a look back at our data again, we can see that the difference between mammals and birds should be more extreme than any difference between mammals and fish. \n",
    "\n"
   ]
  },
  {
   "cell_type": "markdown",
   "metadata": {},
   "source": [
    "Let's try a simpler way -- let's make the contingency tables ourselves and run the chi-square tests from the tables. First, let's just remind ourselves of the endangered and threatened dataset we want to visualize:"
   ]
  },
  {
   "cell_type": "code",
   "execution_count": 59,
   "metadata": {},
   "outputs": [
    {
     "name": "stdout",
     "output_type": "stream",
     "text": [
      "                count    mean        std   min   25%   50%    75%    max\n",
      "category                                                                \n",
      "Amphibian        12.0  59.000  37.956913  11.0  35.5  43.0  73.50  141.0\n",
      "Bird             16.0  35.875  18.366183  13.0  19.5  33.5  49.50   64.0\n",
      "Fish             32.0  65.625  46.879908  18.0  34.0  58.0  75.25  253.0\n",
      "Mammal           52.0  53.000  41.892486  13.0  27.0  37.0  67.00  203.0\n",
      "Vascular Plant   12.0  59.500  30.065081  25.0  40.5  52.0  67.75  114.0\n"
     ]
    }
   ],
   "source": [
    "# Filter the merged_data dataframe to only include endangered or threatened species\n",
    "endangered_or_threatened_data = merged_data[(merged_data['conservation_status'] == 'Endangered') | (merged_data['conservation_status'] == 'Threatened')]\n",
    "\n",
    "# Group the endangered_or_threatened_data dataset by the category, and calculate summary statistics\n",
    "category_stats = endangered_or_threatened_data.groupby('category')['observations'].describe()\n",
    "\n",
    "# Display the summary statistics\n",
    "print(category_stats)"
   ]
  },
  {
   "cell_type": "markdown",
   "metadata": {},
   "source": [
    "I also want to get a sense of the amount of observations for each of these endangered and threatened species:"
   ]
  },
  {
   "cell_type": "code",
   "execution_count": 64,
   "metadata": {},
   "outputs": [
    {
     "name": "stdout",
     "output_type": "stream",
     "text": [
      "          category  observations\n",
      "0       Amphibians            12\n",
      "1            Birds            16\n",
      "2             Fish            32\n",
      "3          Mammals            52\n",
      "4  Vascular Plants            12\n"
     ]
    }
   ],
   "source": [
    "# Filter the merged_data dataframe to only include endangered or threatened species\n",
    "endangered_or_threatened_data = merged_data[(merged_data['conservation_status'] == 'Endangered') | (merged_data['conservation_status'] == 'Threatened')]\n",
    "\n",
    "# Group the endangered_or_threatened_data dataset by the category, and count the number of observations\n",
    "category_counts = endangered_or_threatened_data.groupby('category')['observations'].count().reset_index()\n",
    "\n",
    "# Rename the categories\n",
    "category_counts['category'] = category_counts['category'].map({\n",
    "    'Amphibian': 'Amphibians',\n",
    "    'Bird': 'Birds',\n",
    "    'Fish': 'Fish',\n",
    "    'Mammal': 'Mammals',\n",
    "    'Vascular Plant': 'Vascular Plants'\n",
    "})\n",
    "\n",
    "# Display the number of observations for each category\n",
    "print(category_counts)"
   ]
  },
  {
   "cell_type": "code",
   "execution_count": 47,
   "metadata": {},
   "outputs": [
    {
     "name": "stdout",
     "output_type": "stream",
     "text": [
      "Chi-Square Test for Endangered or Threatened Mammals vs. Endangered or Threatened Birds:\n",
      "Chi-Square Statistic: 55.49519230769231\n",
      "P-Value: 0.019972839204332227\n",
      "\n",
      "Chi-Square Test for Endangered or Threatened Mammals vs. Endangered or Threatened Fish:\n",
      "Chi-Square Statistic: 67.88653846153846\n",
      "P-Value: 0.030864502573442146\n",
      "\n",
      "Chi-Square Test for Endangered or Threatened Mammals vs. Endangered or Threatened Amphibians:\n",
      "Chi-Square Statistic: 54.15384615384616\n",
      "P-Value: 0.02039375152219544\n"
     ]
    }
   ],
   "source": [
    "# Create contingency tables for endangered or threatened mammals and endangered or threatened birds, fish, and amphibians\n",
    "mammal_bird_contingency_table = pd.crosstab(index=endangered_or_threatened_data[endangered_or_threatened_data['category'].isin(['Mammal', 'Bird'])]['category'], columns=endangered_or_threatened_data[endangered_or_threatened_data['category'].isin(['Mammal', 'Bird'])]['observations'])\n",
    "mammal_fish_contingency_table = pd.crosstab(index=endangered_or_threatened_data[endangered_or_threatened_data['category'].isin(['Mammal', 'Fish'])]['category'], columns=endangered_or_threatened_data[endangered_or_threatened_data['category'].isin(['Mammal', 'Fish'])]['observations'])\n",
    "mammal_amphibian_contingency_table = pd.crosstab(index=endangered_or_threatened_data[endangered_or_threatened_data['category'].isin(['Mammal', 'Amphibian'])]['category'], columns=endangered_or_threatened_data[endangered_or_threatened_data['category'].isin(['Mammal', 'Amphibian'])]['observations'])\n",
    "\n",
    "# Perform Chi-Square tests for each contingency table\n",
    "mammal_bird_chi2, mammal_bird_p_value, mammal_bird_dof, mammal_bird_expected = chi2_contingency(mammal_bird_contingency_table.values)\n",
    "mammal_fish_chi2, mammal_fish_p_value, mammal_fish_dof, mammal_fish_expected = chi2_contingency(mammal_fish_contingency_table.values)\n",
    "mammal_amphibian_chi2, mammal_amphibian_p_value, mammal_amphibian_dof, mammal_amphibian_expected = chi2_contingency(mammal_amphibian_contingency_table.values)\n",
    "\n",
    "# Print the results\n",
    "print('Chi-Square Test for Endangered or Threatened Mammals vs. Endangered or Threatened Birds:')\n",
    "print('Chi-Square Statistic:', mammal_bird_chi2)\n",
    "print('P-Value:', mammal_bird_p_value)\n",
    "print('')\n",
    "print('Chi-Square Test for Endangered or Threatened Mammals vs. Endangered or Threatened Fish:')\n",
    "print('Chi-Square Statistic:', mammal_fish_chi2)\n",
    "print('P-Value:', mammal_fish_p_value)\n",
    "print('')\n",
    "print('Chi-Square Test for Endangered or Threatened Mammals vs. Endangered or Threatened Amphibians:')\n",
    "print('Chi-Square Statistic:', mammal_amphibian_chi2)\n",
    "print('P-Value:', mammal_amphibian_p_value)"
   ]
  },
  {
   "cell_type": "code",
   "execution_count": 63,
   "metadata": {},
   "outputs": [
    {
     "name": "stdout",
     "output_type": "stream",
     "text": [
      "          category  observations\n",
      "0       Amphibians            12\n",
      "1            Birds            16\n",
      "2             Fish            32\n",
      "3          Mammals            52\n",
      "4  Vascular Plants            12\n"
     ]
    }
   ],
   "source": []
  },
  {
   "cell_type": "markdown",
   "metadata": {},
   "source": [
    "Now, it would not be a convincing set of hypothesis tests without including a measure of effect size. For Chi-Square Tests of Independence, we need to calculate Phi (φ) using the following formula:\n",
    "\n",
    "φ = sqrt(χ² / (n))\n",
    "\n",
    "Remember,"
   ]
  },
  {
   "cell_type": "code",
   "execution_count": null,
   "metadata": {},
   "outputs": [],
   "source": [
    "#           category         observations\n",
    "# 0       Amphibians            12\n",
    "# 1            Birds            16\n",
    "# 2             Fish            32\n",
    "# 3          Mammals            52\n",
    "# 4  Vascular Plants            12"
   ]
  },
  {
   "cell_type": "code",
   "execution_count": 65,
   "metadata": {},
   "outputs": [
    {
     "name": "stdout",
     "output_type": "stream",
     "text": [
      "Phi: 0.9033857256071568\n"
     ]
    }
   ],
   "source": [
    "import math\n",
    "\n",
    "# Chi-Square Test for Mammals vs. Birds\n",
    "chi2 = 55.49519230769231\n",
    "n = 52 + 16\n",
    "phi = math.sqrt(chi2 / n)\n",
    "\n",
    "print('Phi:', phi)"
   ]
  },
  {
   "cell_type": "code",
   "execution_count": 66,
   "metadata": {},
   "outputs": [
    {
     "name": "stdout",
     "output_type": "stream",
     "text": [
      "Phi: 0.8989844697897049\n"
     ]
    }
   ],
   "source": [
    "# Chi-Square Test for Mammals vs. Fish\n",
    "chi2 = 67.88653846153846\n",
    "n = 32 + 52\n",
    "phi = math.sqrt(chi2 / n)\n",
    "\n",
    "print('Phi:', phi)"
   ]
  },
  {
   "cell_type": "code",
   "execution_count": 67,
   "metadata": {},
   "outputs": [
    {
     "name": "stdout",
     "output_type": "stream",
     "text": [
      "Phi: 0.9198662110077999\n"
     ]
    }
   ],
   "source": [
    "# Chi-Square Test for Mammals vs. Amphibians\n",
    "chi2 = 54.15384615384616\n",
    "n = 52 + 12\n",
    "phi = math.sqrt(chi2 / n)\n",
    "\n",
    "print('Phi:', phi)"
   ]
  },
  {
   "cell_type": "markdown",
   "metadata": {},
   "source": [
    "Results\n",
    "\n",
    "Chi-Square Test of Independence\n",
    "    Mammals vs Birds\n",
    "    Chi-Square Statistic: 55.49519230769231\n",
    "    P-Value: 0.019972839204332227\n",
    "    Phi: 0.9033857256071568\n",
    "\n",
    "\n",
    "Chi-Square Test of Independence\n",
    "    Mammals vs Fish\n",
    "    Chi-Square Statistic: 67.88653846153846\n",
    "    P-Value: 0.030864502573442146\n",
    "    Phi: 0.8989844697897049\n",
    "\n",
    "Chi-Square Test of Independence\n",
    "    Mammals vs Amphibian\n",
    "    Chi-Square Statistic: 54.15384615384616\n",
    "    P-Value: 0.02039375152219544\n",
    "    Phi: 0.9198662110077999\n",
    "\n",
    "\n"
   ]
  },
  {
   "cell_type": "markdown",
   "metadata": {},
   "source": [
    "Analysis\n",
    "\n",
    "Results\n",
    "\n",
    "Chi-Square Test of Independence\n",
    "    Mammals vs Birds\n",
    "    Chi-Square Statistic: 55.49519230769231\n",
    "    P-Value: 0.019972839204332227\n",
    "    Phi: 0.9033857256071568\n",
    "\n",
    "\n",
    "Chi-Square Test of Independence\n",
    "    Mammals vs Fish\n",
    "    Chi-Square Statistic: 67.88653846153846\n",
    "    P-Value: 0.030864502573442146\n",
    "    Phi: 0.8989844697897049\n",
    "\n",
    "Chi-Square Test of Independence\n",
    "    Mammals vs Amphibian\n",
    "    Chi-Square Statistic: 54.15384615384616\n",
    "    P-Value: 0.02039375152219544\n",
    "    Phi: 0.9198662110077999"
   ]
  },
  {
   "cell_type": "markdown",
   "metadata": {},
   "source": [
    "There we go -- a result that makes sense. In addition to our results, this is a good lesson on understanding your data too -- as I tried to instill in my former statistics students, we always want to be questioning the validity of our results. A calculator can crunch any set of numbers but it is the user that must decide if the answer makes sense.\n",
    "\n",
    "The P-Values for the Chi-Square tests for endangered or threatened mammals vs. endangered or threatened birds, fish, and amphibians are all relatively small, indicating that there is a significant difference in the proportion of observations between the categories.\n",
    "\n",
    "In particular, the P-Value for the Chi-Square test for endangered or threatened mammals vs. endangered or threatened fish is the smallest, indicating that there is a significant difference in the proportion of observations between the two categories. By looking back at our summary statistics for endangered and threatened species, we can see that the reason for these significant differences is the greater proportion on mammal observations. This suggests that endangered or threatened mammals, endangered or threatened fish, and endangered or threatened amphibians are differently distributed across the national parks. It may be worth investigating further to determine if there are specific factors, such as habitat or behavior, that may be contributing to this difference.\n",
    "\n",
    "\n"
   ]
  }
 ],
 "metadata": {
  "kernelspec": {
   "display_name": "Python 3",
   "language": "python",
   "name": "python3"
  },
  "language_info": {
   "codemirror_mode": {
    "name": "ipython",
    "version": 3
   },
   "file_extension": ".py",
   "mimetype": "text/x-python",
   "name": "python",
   "nbconvert_exporter": "python",
   "pygments_lexer": "ipython3",
   "version": "3.11.5"
  }
 },
 "nbformat": 4,
 "nbformat_minor": 4
}
